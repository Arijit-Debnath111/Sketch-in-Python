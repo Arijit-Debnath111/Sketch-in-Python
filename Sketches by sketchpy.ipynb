{
 "cells": [
  {
   "cell_type": "code",
   "execution_count": 1,
   "id": "f9309e95",
   "metadata": {},
   "outputs": [
    {
     "name": "stdout",
     "output_type": "stream",
     "text": [
      "Requirement already satisfied: sketchpy in c:\\users\\hp\\anaconda3\\lib\\site-packages (0.0.18)\n",
      "Requirement already satisfied: tqdm in c:\\users\\hp\\anaconda3\\lib\\site-packages (from sketchpy) (4.59.0)\n",
      "Requirement already satisfied: numpy in c:\\users\\hp\\anaconda3\\lib\\site-packages (from sketchpy) (1.20.1)\n",
      "Requirement already satisfied: svg.path in c:\\users\\hp\\anaconda3\\lib\\site-packages (from sketchpy) (5.1)\n",
      "Requirement already satisfied: svgpathtools in c:\\users\\hp\\anaconda3\\lib\\site-packages (from sketchpy) (1.4.4)\n",
      "Requirement already satisfied: turtle==0.0.1 in c:\\users\\hp\\anaconda3\\lib\\site-packages (from sketchpy) (0.0.1)\n",
      "Requirement already satisfied: opencv-python in c:\\users\\hp\\anaconda3\\lib\\site-packages (from sketchpy) (4.5.5.62)\n",
      "Requirement already satisfied: wheel in c:\\users\\hp\\anaconda3\\lib\\site-packages (from sketchpy) (0.36.2)\n",
      "Requirement already satisfied: PyYAML>=3.08 in c:\\users\\hp\\anaconda3\\lib\\site-packages (from turtle==0.0.1->sketchpy) (5.4.1)\n",
      "Requirement already satisfied: scipy in c:\\users\\hp\\anaconda3\\lib\\site-packages (from svgpathtools->sketchpy) (1.6.2)\n",
      "Requirement already satisfied: svgwrite in c:\\users\\hp\\anaconda3\\lib\\site-packages (from svgpathtools->sketchpy) (1.4.2)\n"
     ]
    }
   ],
   "source": [
    "!pip install sketchpy"
   ]
  },
  {
   "cell_type": "code",
   "execution_count": 1,
   "id": "bc753de8",
   "metadata": {},
   "outputs": [],
   "source": [
    "from sketchpy import library as lib"
   ]
  },
  {
   "cell_type": "code",
   "execution_count": 2,
   "id": "356c8cd2",
   "metadata": {},
   "outputs": [],
   "source": [
    "obj=lib.rdj()"
   ]
  },
  {
   "cell_type": "code",
   "execution_count": null,
   "id": "ae909fbd",
   "metadata": {},
   "outputs": [],
   "source": [
    "obj.draw()"
   ]
  },
  {
   "cell_type": "code",
   "execution_count": null,
   "id": "06695e95",
   "metadata": {},
   "outputs": [],
   "source": [
    "obj=lib.vijay()"
   ]
  },
  {
   "cell_type": "code",
   "execution_count": null,
   "id": "78a1ace9",
   "metadata": {},
   "outputs": [],
   "source": []
  }
 ],
 "metadata": {
  "kernelspec": {
   "display_name": "Python 3",
   "language": "python",
   "name": "python3"
  },
  "language_info": {
   "codemirror_mode": {
    "name": "ipython",
    "version": 3
   },
   "file_extension": ".py",
   "mimetype": "text/x-python",
   "name": "python",
   "nbconvert_exporter": "python",
   "pygments_lexer": "ipython3",
   "version": "3.8.8"
  }
 },
 "nbformat": 4,
 "nbformat_minor": 5
}
